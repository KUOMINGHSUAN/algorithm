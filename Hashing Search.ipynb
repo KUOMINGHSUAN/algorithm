{
  "nbformat": 4,
  "nbformat_minor": 0,
  "metadata": {
    "colab": {
      "name": "Untitled",
      "provenance": [],
      "collapsed_sections": [],
      "authorship_tag": "ABX9TyOQDZyLiyNhRsGM7HcQcQCC",
      "include_colab_link": true
    },
    "kernelspec": {
      "name": "python3",
      "display_name": "Python 3"
    }
  },
  "cells": [
    {
      "cell_type": "markdown",
      "metadata": {
        "id": "view-in-github",
        "colab_type": "text"
      },
      "source": [
        "<a href=\"https://colab.research.google.com/github/KUOMINGHSUAN/algorithm/blob/master/Hashing%20Search.ipynb\" target=\"_parent\"><img src=\"https://colab.research.google.com/assets/colab-badge.svg\" alt=\"Open In Colab\"/></a>"
      ]
    },
    {
      "cell_type": "markdown",
      "metadata": {
        "id": "hsZ96AQM7ofN"
      },
      "source": [
        "線性探測"
      ]
    },
    {
      "cell_type": "code",
      "metadata": {
        "id": "qqBEydG0jI5U",
        "outputId": "cc6d38cb-f8ce-4424-f739-fc1deff2c173",
        "colab": {
          "base_uri": "https://localhost:8080/"
        }
      },
      "source": [
        "import random\n",
        "\n",
        "INDEXBOX=10 #雜湊表最大元素\n",
        "MAXIMUM=7  #最大資料個數\n",
        "\n",
        "def print_data(data,max_number):#列印陣列副程式\n",
        "  print('\\t',end='')\n",
        "  for i in range(max_number):\n",
        "    print('[%2d]' %data[i],end='')\n",
        "  print()\n",
        "\n",
        "def create_table(num,index): #建立雜湊表副程式\n",
        "   tmp=num%INDEXBOX     #雜湊函數=資料%INDEXBOX\n",
        "   while True:\n",
        "    if index [tmp]== -1:  #如果資料對應的位置是空的\n",
        "      index[tmp]=num    #則直接存入資料\n",
        "      break\n",
        "    else:\n",
        "      tmp=(tmp+1)%INDEXBOX  #否則往後找位置存放\n",
        "\n",
        "# Main\n",
        "index = [None]*INDEXBOX\n",
        "data = [None]*MAXIMUM\n",
        "\n",
        "print('原始陣列值:')\n",
        "for i in range(MAXIMUM): #起始資料值\n",
        "  data [i]=random.randint(1,20)\n",
        "for i in range(INDEXBOX): #清除雜湊表\n",
        "  index[i]= -1\n",
        "print_data(data,MAXIMUM) #列印起始資料\n",
        "\n",
        "print('雜湊表內容:')\n",
        "for i in range(MAXIMUM): #建立雜湊表\n",
        "  create_table(data[i],index)\n",
        "  print('%2d =>'%data[i],end='') #列印單一元素的雜湊表位置\n",
        "  print_data(index,INDEXBOX)\n",
        "\n",
        "print('完成雜湊表:')\n",
        "print_data(index,INDEXBOX) #列印最後完成結果\n"
      ],
      "execution_count": 1,
      "outputs": [
        {
          "output_type": "stream",
          "text": [
            "原始陣列值:\n",
            "\t[ 9][ 4][15][11][ 3][ 1][13]\n",
            "雜湊表內容:\n",
            " 9 =>\t[-1][-1][-1][-1][-1][-1][-1][-1][-1][ 9]\n",
            " 4 =>\t[-1][-1][-1][-1][ 4][-1][-1][-1][-1][ 9]\n",
            "15 =>\t[-1][-1][-1][-1][ 4][15][-1][-1][-1][ 9]\n",
            "11 =>\t[-1][11][-1][-1][ 4][15][-1][-1][-1][ 9]\n",
            " 3 =>\t[-1][11][-1][ 3][ 4][15][-1][-1][-1][ 9]\n",
            " 1 =>\t[-1][11][ 1][ 3][ 4][15][-1][-1][-1][ 9]\n",
            "13 =>\t[-1][11][ 1][ 3][ 4][15][13][-1][-1][ 9]\n",
            "完成雜湊表:\n",
            "\t[-1][11][ 1][ 3][ 4][15][13][-1][-1][ 9]\n"
          ],
          "name": "stdout"
        }
      ]
    },
    {
      "cell_type": "markdown",
      "metadata": {
        "id": "q4q5WFIC7gPf"
      },
      "source": [
        "平方探測\n"
      ]
    },
    {
      "cell_type": "code",
      "metadata": {
        "id": "AyPFq9qs7dIC",
        "outputId": "b93fdcaa-38a6-42b3-ca5f-6ae1ed9bbb7d",
        "colab": {
          "base_uri": "https://localhost:8080/"
        }
      },
      "source": [
        "import random\n",
        "\n",
        "INDEXBOX=10 #雜湊表最大元素\n",
        "MAXIMUM=7  #最大資料個數\n",
        "\n",
        "def print_data(data,max_number):#列印陣列副程式\n",
        "  print('\\t',end='')\n",
        "  for i in range(max_number):\n",
        "    print('[%2d]' %data[i],end='')\n",
        "  print()\n",
        "\n",
        "def create_table(num,index): #建立雜湊表副程式\n",
        "   tmp=num%INDEXBOX     #雜湊函數=資料%INDEXBOX\n",
        "   n=1\n",
        "   while True:\n",
        "    if index [tmp]== -1:  #如果資料對應的位置是空的\n",
        "      index[tmp]=num    #則直接存入資料\n",
        "      break\n",
        "    else:\n",
        "      print(\"碰撞\")\n",
        "      tmp=num%INDEXBOX\n",
        "      tmp=(tmp+n**2)%INDEXBOX\n",
        "      n+=1\n",
        "      \n",
        "\n",
        "# Main\n",
        "index = [None]*INDEXBOX\n",
        "data = [None]*MAXIMUM\n",
        "\n",
        "print('原始陣列值:')\n",
        "for i in range(MAXIMUM): #起始資料值\n",
        "  data [i]=random.randint(1,20)\n",
        "for i in range(INDEXBOX): #清除雜湊表\n",
        "  index[i]= -1\n",
        "print_data(data,MAXIMUM) #列印起始資料\n",
        "\n",
        "print('雜湊表內容:')\n",
        "for i in range(MAXIMUM): #建立雜湊表\n",
        "  create_table(data[i],index)\n",
        "  print('%2d =>'%data[i],end='') #列印單一元素的雜湊表位置\n",
        "  print_data(index,INDEXBOX)\n",
        "\n",
        "print('完成雜湊表:')\n",
        "print_data(index,INDEXBOX) #列印最後完成結果"
      ],
      "execution_count": 18,
      "outputs": [
        {
          "output_type": "stream",
          "text": [
            "原始陣列值:\n",
            "\t[ 5][11][ 4][10][10][ 1][ 2]\n",
            "雜湊表內容:\n",
            " 5 =>\t[-1][-1][-1][-1][-1][ 5][-1][-1][-1][-1]\n",
            "11 =>\t[-1][11][-1][-1][-1][ 5][-1][-1][-1][-1]\n",
            " 4 =>\t[-1][11][-1][-1][ 4][ 5][-1][-1][-1][-1]\n",
            "10 =>\t[10][11][-1][-1][ 4][ 5][-1][-1][-1][-1]\n",
            "碰撞\n",
            "碰撞\n",
            "碰撞\n",
            "10 =>\t[10][11][-1][-1][ 4][ 5][-1][-1][-1][10]\n",
            "碰撞\n",
            " 1 =>\t[10][11][ 1][-1][ 4][ 5][-1][-1][-1][10]\n",
            "碰撞\n",
            " 2 =>\t[10][11][ 1][ 2][ 4][ 5][-1][-1][-1][10]\n",
            "完成雜湊表:\n",
            "\t[10][11][ 1][ 2][ 4][ 5][-1][-1][-1][10]\n"
          ],
          "name": "stdout"
        }
      ]
    },
    {
      "cell_type": "markdown",
      "metadata": {
        "id": "YEcdQk2SBUIu"
      },
      "source": [
        "再雜湊\n"
      ]
    },
    {
      "cell_type": "code",
      "metadata": {
        "id": "zMYRBLIDBW0c",
        "outputId": "b654bd0d-b33d-4de5-f569-84ebf22b45b5",
        "colab": {
          "base_uri": "https://localhost:8080/"
        }
      },
      "source": [
        "import random\n",
        "\n",
        "INDEXBOX=10 #雜湊表最大元素\n",
        "MAXIMUM=7  #最大資料個數\n",
        "\n",
        "def print_data(data,max_number):#列印陣列副程式\n",
        "  print('\\t',end='')\n",
        "  for i in range(max_number):\n",
        "    print('[%2d]' %data[i],end='')\n",
        "  print()\n",
        "\n",
        "def create_table(num,index): #建立雜湊表副程式\n",
        "   tmp=num%INDEXBOX     #雜湊函數=資料%INDEXBOX\n",
        "   n=1\n",
        "   while True:\n",
        "    if index [tmp]== -1:  #如果資料對應的位置是空的\n",
        "      index[tmp]=num    #則直接存入資料\n",
        "      break\n",
        "    else:\n",
        "      print(\"碰撞\")  \n",
        "      tmp=(tmp+n*5)%INDEXBOX\n",
        "      n+=1\n",
        "      \n",
        "\n",
        "# Main\n",
        "index = [None]*INDEXBOX\n",
        "data = [None]*MAXIMUM\n",
        "\n",
        "print('原始陣列值:')\n",
        "for i in range(MAXIMUM): #起始資料值\n",
        "  data [i]=random.randint(1,20)\n",
        "for i in range(INDEXBOX): #清除雜湊表\n",
        "  index[i]= -1\n",
        "print_data(data,MAXIMUM) #列印起始資料\n",
        "\n",
        "print('雜湊表內容:')\n",
        "for i in range(MAXIMUM): #建立雜湊表\n",
        "  create_table(data[i],index)\n",
        "  print('%2d =>'%data[i],end='') #列印單一元素的雜湊表位置\n",
        "  print_data(index,INDEXBOX)\n",
        "\n",
        "print('完成雜湊表:')\n",
        "print_data(index,INDEXBOX) #列印最後完成結果"
      ],
      "execution_count": 23,
      "outputs": [
        {
          "output_type": "stream",
          "text": [
            "原始陣列值:\n",
            "\t[ 5][ 2][ 4][ 3][ 5][13][ 9]\n",
            "雜湊表內容:\n",
            " 5 =>\t[-1][-1][-1][-1][-1][ 5][-1][-1][-1][-1]\n",
            " 2 =>\t[-1][-1][ 2][-1][-1][ 5][-1][-1][-1][-1]\n",
            " 4 =>\t[-1][-1][ 2][-1][ 4][ 5][-1][-1][-1][-1]\n",
            " 3 =>\t[-1][-1][ 2][ 3][ 4][ 5][-1][-1][-1][-1]\n",
            "碰撞\n",
            " 5 =>\t[ 5][-1][ 2][ 3][ 4][ 5][-1][-1][-1][-1]\n",
            "碰撞\n",
            "13 =>\t[ 5][-1][ 2][ 3][ 4][ 5][-1][-1][13][-1]\n",
            " 9 =>\t[ 5][-1][ 2][ 3][ 4][ 5][-1][-1][13][ 9]\n",
            "完成雜湊表:\n",
            "\t[ 5][-1][ 2][ 3][ 4][ 5][-1][-1][13][ 9]\n"
          ],
          "name": "stdout"
        }
      ]
    }
  ]
}