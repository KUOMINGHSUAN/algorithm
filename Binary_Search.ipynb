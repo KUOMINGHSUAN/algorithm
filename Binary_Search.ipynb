{
  "nbformat": 4,
  "nbformat_minor": 0,
  "metadata": {
    "colab": {
      "name": "Binary Search.ipynb",
      "provenance": [],
      "authorship_tag": "ABX9TyMEf2AAEUkfX4PzVC3vZQrf",
      "include_colab_link": true
    },
    "kernelspec": {
      "name": "python3",
      "display_name": "Python 3"
    }
  },
  "cells": [
    {
      "cell_type": "markdown",
      "metadata": {
        "id": "view-in-github",
        "colab_type": "text"
      },
      "source": [
        "<a href=\"https://colab.research.google.com/github/KUOMINGHSUAN/algorithm/blob/master/Binary_Search.ipynb\" target=\"_parent\"><img src=\"https://colab.research.google.com/assets/colab-badge.svg\" alt=\"Open In Colab\"/></a>"
      ]
    },
    {
      "cell_type": "code",
      "metadata": {
        "id": "wpReWDTI8arF",
        "outputId": "6af5658c-5cdf-445d-b15e-66bb2e8719ad",
        "colab": {
          "base_uri": "https://localhost:8080/",
          "height": 34
        }
      },
      "source": [
        "def binarySearch(arr,l,r,x):\n",
        "  if r >= l:\n",
        "    mid = l + (r-l)//2\n",
        "    if arr[mid] == x:\n",
        "     return mid\n",
        "    elif arr[mid]>x:\n",
        "      return binarySearch(arr,l,mid-1,x)\n",
        "    else:\n",
        "      return binarySearch(arr,mid+1,r,x)\n",
        "  else:\n",
        "    return-1\n",
        "arr = [5,8,9,15,30]\n",
        "x=30\n",
        "#Function call\n",
        "result = binarySearch(arr,0,len(arr)-1,x)\n",
        "if result !=-1:\n",
        "  print(\"元素在索引%d\"%result)      \n",
        "else:\n",
        "  print(\"陣列中找不到該元素\")"
      ],
      "execution_count": 30,
      "outputs": [
        {
          "output_type": "stream",
          "text": [
            "元素在索引4\n"
          ],
          "name": "stdout"
        }
      ]
    },
    {
      "cell_type": "code",
      "metadata": {
        "id": "2BNH2dT2_prm",
        "outputId": "ab818ab7-29ef-46f1-b13c-3ca81d770159",
        "colab": {
          "base_uri": "https://localhost:8080/",
          "height": 85
        }
      },
      "source": [
        "def binarySearch(arr,l,r,x):\n",
        "  if r >= l:\n",
        "    mid = l + (r-l)//2\n",
        "    if arr[mid]==x:\n",
        "      return mid\n",
        "    elif arr[mid]>x:\n",
        "      return binarySearch(arr,l,mid-1,x)\n",
        "    else:\n",
        "      return binarySearch(arr,mid+1,r,x)\n",
        "  else:\n",
        "    return-1\n",
        "\n",
        "def Bubble_Sort(datas):\n",
        "    for i in range(1, len(datas)): # \n",
        "        for j in range(len(datas)-i):   # \n",
        "            if datas[j] > datas[j+1]:   # \n",
        "                datas[j], datas[j+1] = datas[j+1], datas[j]\n",
        "    return datas\n",
        "\n",
        "\n",
        "if __name__ == '__main__':\n",
        "    import random  \n",
        "    arr = list(map(int,input(\"請輸入5個數:\").split())) #先用map把輸入值的資料型態都轉成int split()會自動以空格做分割\n",
        "    #random.shuffle(a)\n",
        "    #print(arr)\n",
        "    arr = Bubble_Sort(arr)\n",
        "    print(arr)\n",
        "\n",
        "\n",
        "\n",
        "#arr = [5,8,9,15,30]\n",
        "x=int(input(\"請輸入要搜尋的key值:\"))\n",
        "#Function call\n",
        "result = binarySearch(arr,0,len(arr)-1,x)\n",
        "if result !=-1:\n",
        "  print(\"元素在索引%d\"%result)      \n",
        "else:\n",
        "  print(\"陣列中找不到該元素\")"
      ],
      "execution_count": 31,
      "outputs": [
        {
          "output_type": "stream",
          "text": [
            "請輸入5個數:11 5 7 3 5\n",
            "[3, 5, 5, 7, 11]\n",
            "請輸入要搜尋的key值:11\n",
            "元素在索引4\n"
          ],
          "name": "stdout"
        }
      ]
    }
  ]
}