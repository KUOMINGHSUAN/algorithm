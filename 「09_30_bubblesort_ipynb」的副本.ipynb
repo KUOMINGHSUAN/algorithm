{
  "nbformat": 4,
  "nbformat_minor": 0,
  "metadata": {
    "colab": {
      "name": "「09/30 bubblesort.ipynb」的副本",
      "provenance": [],
      "include_colab_link": true
    },
    "kernelspec": {
      "name": "python3",
      "display_name": "Python 3"
    }
  },
  "cells": [
    {
      "cell_type": "markdown",
      "metadata": {
        "id": "view-in-github",
        "colab_type": "text"
      },
      "source": [
        "<a href=\"https://colab.research.google.com/github/KUOMINGHSUAN/algorithm/blob/master/%E3%80%8C09_30_bubblesort_ipynb%E3%80%8D%E7%9A%84%E5%89%AF%E6%9C%AC.ipynb\" target=\"_parent\"><img src=\"https://colab.research.google.com/assets/colab-badge.svg\" alt=\"Open In Colab\"/></a>"
      ]
    },
    {
      "cell_type": "markdown",
      "metadata": {
        "id": "32sgU0StMiof"
      },
      "source": [
        "Bubble sort (氣泡排序)"
      ]
    },
    {
      "cell_type": "code",
      "metadata": {
        "id": "esB_4fSeMLYJ",
        "outputId": "c41f0286-f24e-47df-d02f-986ca1db8b6d",
        "colab": {
          "base_uri": "https://localhost:8080/",
          "height": 68
        }
      },
      "source": [
        "def Bubble_Sort(datas):\n",
        "    for i in range(1, len(datas)): # \n",
        "        for j in range(len(datas)-i):   # \n",
        "            if datas[j] > datas[j+1]:   # \n",
        "                datas[j], datas[j+1] = datas[j+1], datas[j]\n",
        "    return datas\n",
        "\n",
        "\n",
        "if __name__ == '__main__':\n",
        "    import random  \n",
        "    a = list(map(int,input(\"請輸入6個數:\").split())) #先用map把輸入值的資料型態都轉成int split()會自動以空格做分割\n",
        "    #random.shuffle(a)\n",
        "    print(a)\n",
        "    a = Bubble_Sort(a)\n",
        "    print(a)"
      ],
      "execution_count": null,
      "outputs": [
        {
          "output_type": "stream",
          "text": [
            "請輸入6個數:2 3 5  1 23 1\n",
            "[2, 3, 5, 1, 23, 1]\n",
            "[1, 1, 2, 3, 5, 23]\n"
          ],
          "name": "stdout"
        }
      ]
    },
    {
      "cell_type": "markdown",
      "metadata": {
        "id": "MOQ_aZKnM-wL"
      },
      "source": [
        "請加入註解，並將程式修改為加入六個數做氣泡排序\n"
      ]
    }
  ]
}