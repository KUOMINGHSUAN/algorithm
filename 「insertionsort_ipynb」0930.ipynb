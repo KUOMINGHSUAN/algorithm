{
  "nbformat": 4,
  "nbformat_minor": 0,
  "metadata": {
    "colab": {
      "name": "「insertionsort.ipynb」0930",
      "provenance": [],
      "collapsed_sections": [],
      "include_colab_link": true
    },
    "kernelspec": {
      "name": "python3",
      "display_name": "Python 3"
    }
  },
  "cells": [
    {
      "cell_type": "markdown",
      "metadata": {
        "id": "view-in-github",
        "colab_type": "text"
      },
      "source": [
        "<a href=\"https://colab.research.google.com/github/KUOMINGHSUAN/algorithm/blob/master/%E3%80%8Cinsertionsort_ipynb%E3%80%8D0930.ipynb\" target=\"_parent\"><img src=\"https://colab.research.google.com/assets/colab-badge.svg\" alt=\"Open In Colab\"/></a>"
      ]
    },
    {
      "cell_type": "markdown",
      "metadata": {
        "id": "j95w6SLwOC0z"
      },
      "source": [
        "Insertion sort (插入排序)"
      ]
    },
    {
      "cell_type": "code",
      "metadata": {
        "id": "BxBaYEwzNj_v",
        "outputId": "12411d79-ba05-4cc0-ea04-e055619b239a",
        "colab": {
          "base_uri": "https://localhost:8080/",
          "height": 289
        }
      },
      "source": [
        "\n",
        "def Insertion_Sort(datas):\n",
        "    for i in range(1, len(datas)):  # n\n",
        "        for j in range(i):    # n^2\n",
        "            current = datas[i] # n\n",
        "            if current < datas[j]:\n",
        "                for k in range(i,j):# n^2\n",
        "                  print(datas)\n",
        "    return datas\n",
        "    #O(n^2)\n",
        "\n",
        "def insertionSort(arr):\n",
        "    for i in range(len(arr)):\n",
        "        preIndex = i-1\n",
        "        current = arr[i]\n",
        "        while preIndex >= 0 and arr[preIndex] > current:\n",
        "            arr[preIndex+1] = arr[preIndex]\n",
        "            preIndex-=1\n",
        "        arr[preIndex+1] = current\n",
        "        print(arr)\n",
        "    return arr\n",
        "\n",
        "if __name__ == '__main__':\n",
        "    import random\n",
        "    a = list(range(15))\n",
        "    random.shuffle(a)\n",
        "    b = a.copy()\n",
        "\n",
        "    arr = insertionSort(a)\n",
        "    print('---'*10)\n",
        "    Insertion_Sort(b)"
      ],
      "execution_count": null,
      "outputs": [
        {
          "output_type": "stream",
          "text": [
            "[10, 1, 4, 2, 14, 12, 9, 13, 6, 0, 7, 5, 8, 11, 3]\n",
            "[1, 10, 4, 2, 14, 12, 9, 13, 6, 0, 7, 5, 8, 11, 3]\n",
            "[1, 4, 10, 2, 14, 12, 9, 13, 6, 0, 7, 5, 8, 11, 3]\n",
            "[1, 2, 4, 10, 14, 12, 9, 13, 6, 0, 7, 5, 8, 11, 3]\n",
            "[1, 2, 4, 10, 14, 12, 9, 13, 6, 0, 7, 5, 8, 11, 3]\n",
            "[1, 2, 4, 10, 12, 14, 9, 13, 6, 0, 7, 5, 8, 11, 3]\n",
            "[1, 2, 4, 9, 10, 12, 14, 13, 6, 0, 7, 5, 8, 11, 3]\n",
            "[1, 2, 4, 9, 10, 12, 13, 14, 6, 0, 7, 5, 8, 11, 3]\n",
            "[1, 2, 4, 6, 9, 10, 12, 13, 14, 0, 7, 5, 8, 11, 3]\n",
            "[0, 1, 2, 4, 6, 9, 10, 12, 13, 14, 7, 5, 8, 11, 3]\n",
            "[0, 1, 2, 4, 6, 7, 9, 10, 12, 13, 14, 5, 8, 11, 3]\n",
            "[0, 1, 2, 4, 5, 6, 7, 9, 10, 12, 13, 14, 8, 11, 3]\n",
            "[0, 1, 2, 4, 5, 6, 7, 8, 9, 10, 12, 13, 14, 11, 3]\n",
            "[0, 1, 2, 4, 5, 6, 7, 8, 9, 10, 11, 12, 13, 14, 3]\n",
            "[0, 1, 2, 3, 4, 5, 6, 7, 8, 9, 10, 11, 12, 13, 14]\n",
            "------------------------------\n"
          ],
          "name": "stdout"
        }
      ]
    }
  ]
}