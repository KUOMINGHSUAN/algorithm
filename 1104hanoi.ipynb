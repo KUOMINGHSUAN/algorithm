{
  "nbformat": 4,
  "nbformat_minor": 0,
  "metadata": {
    "colab": {
      "name": "1104hanoi.ipynb",
      "provenance": [],
      "authorship_tag": "ABX9TyOapFV9psghKYwivV4J/zO9",
      "include_colab_link": true
    },
    "kernelspec": {
      "name": "python3",
      "display_name": "Python 3"
    }
  },
  "cells": [
    {
      "cell_type": "markdown",
      "metadata": {
        "id": "view-in-github",
        "colab_type": "text"
      },
      "source": [
        "<a href=\"https://colab.research.google.com/github/KUOMINGHSUAN/algorithm/blob/master/1104hanoi.ipynb\" target=\"_parent\"><img src=\"https://colab.research.google.com/assets/colab-badge.svg\" alt=\"Open In Colab\"/></a>"
      ]
    },
    {
      "cell_type": "code",
      "metadata": {
        "id": "eAZpnLNyeC7z",
        "outputId": "f79ab78c-dfd3-4bd8-c138-6b8dcdf60493",
        "colab": {
          "base_uri": "https://localhost:8080/"
        }
      },
      "source": [
        "def hanoi(n,p1,p2,p3):\n",
        "  if n==1:\n",
        "    print('套環從%d移到%d' %(p1,p3))\n",
        "  else:\n",
        "    hanoi(n-1,p1,p3,p2)\n",
        "    print('套環從%d移到%d'%(p1,p3))\n",
        "    hanoi(n-1,p2,p1,p3)\n",
        "\n",
        "j = int(input('請輸入所移動套環數量:'))\n",
        "hanoi(j,1,2,3)"
      ],
      "execution_count": 2,
      "outputs": [
        {
          "output_type": "stream",
          "text": [
            "請輸入所移動套環數量:4\n",
            "套環從1移到2\n",
            "套環從1移到3\n",
            "套環從2移到3\n",
            "套環從1移到2\n",
            "套環從3移到1\n",
            "套環從3移到2\n",
            "套環從1移到2\n",
            "套環從1移到3\n",
            "套環從2移到3\n",
            "套環從2移到1\n",
            "套環從3移到1\n",
            "套環從2移到3\n",
            "套環從1移到2\n",
            "套環從1移到3\n",
            "套環從2移到3\n"
          ],
          "name": "stdout"
        }
      ]
    }
  ]
}