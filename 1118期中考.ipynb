{
  "nbformat": 4,
  "nbformat_minor": 0,
  "metadata": {
    "colab": {
      "name": "1118期中考.ipynb",
      "provenance": [],
      "collapsed_sections": [],
      "authorship_tag": "ABX9TyO83CdLVL2VeJWINGlnYIwW",
      "include_colab_link": true
    },
    "kernelspec": {
      "name": "python3",
      "display_name": "Python 3"
    }
  },
  "cells": [
    {
      "cell_type": "markdown",
      "metadata": {
        "id": "view-in-github",
        "colab_type": "text"
      },
      "source": [
        "<a href=\"https://colab.research.google.com/github/KUOMINGHSUAN/algorithm/blob/master/1118%E6%9C%9F%E4%B8%AD%E8%80%83.ipynb\" target=\"_parent\"><img src=\"https://colab.research.google.com/assets/colab-badge.svg\" alt=\"Open In Colab\"/></a>"
      ]
    },
    {
      "cell_type": "markdown",
      "metadata": {
        "id": "xvJZgtpwU9O5"
      },
      "source": [
        "選擇排序法(大到小)"
      ]
    },
    {
      "cell_type": "code",
      "metadata": {
        "colab": {
          "base_uri": "https://localhost:8080/"
        },
        "id": "7ZbxFjPeEjV0",
        "outputId": "0ce9f899-4692-472d-a0a6-3d0bc161247c"
      },
      "source": [
        "def Selction_Sort(datas):\n",
        "    for i in range(len(datas)-1):# 第一次選從第一個數開始,第二次從第二個數開始\n",
        "        max = i # 將起始元素設為最大元素\n",
        "        for j in range(i+1, len(datas)):   # 第二層for表示最大元素和後面的元素逐個比較\n",
        "            if datas[j] > datas[max]: #如果當前元素比最大元素大\n",
        "                max = j     #更新最大值的下標\n",
        "\n",
        "        datas[i], datas[max] = datas[max], datas[i] #將最大值放到i的位置\n",
        "        print('第'+str(i+1)+'次排序') #印出進行第幾次排序\n",
        "        print(datas)          #印出排序後的數列\n",
        "        print('---'*10)\n",
        "    return datas\n",
        "\n",
        "\n",
        "if __name__ == '__main__':\n",
        "    import random\n",
        "    list = range(1,100) #生成list\n",
        "    a = random.sample(list,8) #隨機取8個數\n",
        "    print('原始數列')\n",
        "    print(a)\n",
        "    print('---'*10)\n",
        "    a = Selction_Sort(a)\n",
        "    print(a)"
      ],
      "execution_count": null,
      "outputs": [
        {
          "output_type": "stream",
          "text": [
            "原始數列\n",
            "[11, 56, 26, 92, 12, 6, 68, 89]\n",
            "------------------------------\n",
            "第1次排序\n",
            "[92, 56, 26, 11, 12, 6, 68, 89]\n",
            "------------------------------\n",
            "第2次排序\n",
            "[92, 89, 26, 11, 12, 6, 68, 56]\n",
            "------------------------------\n",
            "第3次排序\n",
            "[92, 89, 68, 11, 12, 6, 26, 56]\n",
            "------------------------------\n",
            "第4次排序\n",
            "[92, 89, 68, 56, 12, 6, 26, 11]\n",
            "------------------------------\n",
            "第5次排序\n",
            "[92, 89, 68, 56, 26, 6, 12, 11]\n",
            "------------------------------\n",
            "第6次排序\n",
            "[92, 89, 68, 56, 26, 12, 6, 11]\n",
            "------------------------------\n",
            "第7次排序\n",
            "[92, 89, 68, 56, 26, 12, 11, 6]\n",
            "------------------------------\n",
            "[92, 89, 68, 56, 26, 12, 11, 6]\n"
          ],
          "name": "stdout"
        }
      ]
    },
    {
      "cell_type": "markdown",
      "metadata": {
        "id": "tEw3yF5PW8xi"
      },
      "source": [
        "插入排序法(小到大)\n"
      ]
    },
    {
      "cell_type": "code",
      "metadata": {
        "colab": {
          "base_uri": "https://localhost:8080/"
        },
        "id": "XwvOKiLeEP2y",
        "outputId": "d6330960-9636-468d-dd85-99e35e008707"
      },
      "source": [
        "\n",
        "def insertion_sort(data):\n",
        "    N = len(data) # 獲取需要排序資料的個數\n",
        "    for i in range(1,N): # 插入排序的第一次插入從第二個數字開始選擇，所以從1開始\n",
        "        for j in range(i,0,-1): # 從選擇插入的資料，一次和它前一個比較，主要比前面的小就交換\n",
        "            if data[j]<data[j-1]: # 判斷大小\n",
        "                temp = data[j]  # 交換\n",
        "                data[j] = data[j-1]\n",
        "                data[j-1] = temp\n",
        "        \n",
        "        print('第'+str(i)+'次排序:')       \n",
        "        print(A)\n",
        "        print('---'*10)\n",
        "    return data\n",
        "import random\n",
        "list = range(1,100) #生成list\n",
        "A = random.sample(list,8) #隨機取8個數\n",
        "print(\"原始數列\")\n",
        "print(A)\n",
        "print('---'*10)\n",
        "A = insertion_sort(A)\n",
        "print(A)"
      ],
      "execution_count": null,
      "outputs": [
        {
          "output_type": "stream",
          "text": [
            "原始數列\n",
            "[73, 97, 74, 18, 67, 9, 54, 83]\n",
            "------------------------------\n",
            "第1次排序:\n",
            "[73, 97, 74, 18, 67, 9, 54, 83]\n",
            "------------------------------\n",
            "第2次排序:\n",
            "[73, 74, 97, 18, 67, 9, 54, 83]\n",
            "------------------------------\n",
            "第3次排序:\n",
            "[18, 73, 74, 97, 67, 9, 54, 83]\n",
            "------------------------------\n",
            "第4次排序:\n",
            "[18, 67, 73, 74, 97, 9, 54, 83]\n",
            "------------------------------\n",
            "第5次排序:\n",
            "[9, 18, 67, 73, 74, 97, 54, 83]\n",
            "------------------------------\n",
            "第6次排序:\n",
            "[9, 18, 54, 67, 73, 74, 97, 83]\n",
            "------------------------------\n",
            "第7次排序:\n",
            "[9, 18, 54, 67, 73, 74, 83, 97]\n",
            "------------------------------\n",
            "[9, 18, 54, 67, 73, 74, 83, 97]\n"
          ],
          "name": "stdout"
        }
      ]
    }
  ]
}