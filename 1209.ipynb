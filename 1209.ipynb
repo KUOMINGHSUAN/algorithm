{
  "nbformat": 4,
  "nbformat_minor": 0,
  "metadata": {
    "colab": {
      "name": "1209.ipynb",
      "provenance": [],
      "authorship_tag": "ABX9TyNC2HaOoMWNXhv5x7v98QeA",
      "include_colab_link": true
    },
    "kernelspec": {
      "name": "python3",
      "display_name": "Python 3"
    }
  },
  "cells": [
    {
      "cell_type": "markdown",
      "metadata": {
        "id": "view-in-github",
        "colab_type": "text"
      },
      "source": [
        "<a href=\"https://colab.research.google.com/github/KUOMINGHSUAN/algorithm/blob/master/1209.ipynb\" target=\"_parent\"><img src=\"https://colab.research.google.com/assets/colab-badge.svg\" alt=\"Open In Colab\"/></a>"
      ]
    },
    {
      "cell_type": "markdown",
      "metadata": {
        "id": "o0CUD5s6cSRL"
      },
      "source": [
        "鐵條切割(DP)\r\n"
      ]
    },
    {
      "cell_type": "code",
      "metadata": {
        "colab": {
          "base_uri": "https://localhost:8080/"
        },
        "id": "HYjMLQ7LWu1G",
        "outputId": "72acc052-2636-4564-e686-c02c9b41600a"
      },
      "source": [
        "def BottomUpCutRod(p, n):\r\n",
        "    r = [0]*(n+1)\r\n",
        "    for i in range(1, n+1):\r\n",
        "        if n == 0:\r\n",
        "            return 0\r\n",
        "        q =0\r\n",
        "        for j in range(1, i+1):\r\n",
        "            q = max(q, p[j]+r[i-j])\r\n",
        "            r[i] = q\r\n",
        "    return r[n],r\r\n",
        "p=[0,1,5,8,9,10,17,17,20,24,30]\r\n",
        "\r\n",
        "n = int(input(\"要切割成長度n:\"))\r\n",
        "print(BottomUpCutRod(p, n))   #  (30, [0, 1, 5, 8, 10, 13, 17, 18, 22, 25, 30])\r\n"
      ],
      "execution_count": 8,
      "outputs": [
        {
          "output_type": "stream",
          "text": [
            "要切割成長度n:7\n",
            "(18, [0, 1, 5, 8, 10, 13, 17, 18])\n"
          ],
          "name": "stdout"
        }
      ]
    },
    {
      "cell_type": "markdown",
      "metadata": {
        "id": "rar8pqqPdPAp"
      },
      "source": [
        "路徑、鐵條課堂練習"
      ]
    },
    {
      "cell_type": "markdown",
      "metadata": {
        "id": "mFtK5Bq6c7ae"
      },
      "source": [
        "![路徑、鐵條練習題.PNG](data:image/png;base64,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)"
      ]
    }
  ]
}