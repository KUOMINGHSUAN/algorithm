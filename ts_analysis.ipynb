{
  "nbformat": 4,
  "nbformat_minor": 0,
  "metadata": {
    "colab": {
      "name": "ts_analysis.ipynb",
      "provenance": [],
      "authorship_tag": "ABX9TyNLTJD2WZF75pO9nVeQJaik",
      "include_colab_link": true
    },
    "kernelspec": {
      "name": "python3",
      "display_name": "Python 3"
    }
  },
  "cells": [
    {
      "cell_type": "markdown",
      "metadata": {
        "id": "view-in-github",
        "colab_type": "text"
      },
      "source": [
        "<a href=\"https://colab.research.google.com/github/KUOMINGHSUAN/algorithm/blob/master/ts_analysis.ipynb\" target=\"_parent\"><img src=\"https://colab.research.google.com/assets/colab-badge.svg\" alt=\"Open In Colab\"/></a>"
      ]
    },
    {
      "cell_type": "code",
      "metadata": {
        "id": "M0_tpAuT3w8c",
        "outputId": "5b552fad-ec4e-4c3d-b95e-04b03915eaf2",
        "colab": {
          "base_uri": "https://localhost:8080/"
        }
      },
      "source": [
        "year = int(input(\"請輸入年分:\"))\n",
        "if year%4==0 and year%100!=0 :      #如果輸入值被4整除且不被100整除則是閏年\n",
        "  print(\"是閏年\")\n",
        "elif year%4==0 and year%100==0 and year%400==0: #如果輸入值可以同時被4、100、400整除則是閏年\n",
        "  print(\"是閏年\")\n",
        "else:         #否則不是閏年\n",
        "  print(\"不是閏年\")\n",
        "\n",
        "\n",
        "Y=['2000','2004','2008','2012','2016','2020','2024','2028','2032','2036','2040'] #把2000~2040年之中是閏年的數存入陣列\n",
        "Y=map(int,Y) #把陣列內的值存為int資料型態\n",
        "if year in Y :\n",
        "  print(\"是閏年\") #如果可以在陣列中搜尋到則是閏年\n",
        "else:\n",
        "  print(\"不是閏年\")  #否則不是閏年\n",
        "\n",
        "\n",
        "  "
      ],
      "execution_count": 30,
      "outputs": [
        {
          "output_type": "stream",
          "text": [
            "請輸入年分:2012\n",
            "是閏年\n",
            "是閏年\n"
          ],
          "name": "stdout"
        }
      ]
    }
  ]
}