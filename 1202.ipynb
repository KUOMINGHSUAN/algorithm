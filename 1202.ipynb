{
  "nbformat": 4,
  "nbformat_minor": 0,
  "metadata": {
    "colab": {
      "name": "1202.ipynb",
      "provenance": [],
      "collapsed_sections": [],
      "authorship_tag": "ABX9TyPMKqVYMzQKgu8kZxUGgdhn",
      "include_colab_link": true
    },
    "kernelspec": {
      "name": "python3",
      "display_name": "Python 3"
    }
  },
  "cells": [
    {
      "cell_type": "markdown",
      "metadata": {
        "id": "view-in-github",
        "colab_type": "text"
      },
      "source": [
        "<a href=\"https://colab.research.google.com/github/KUOMINGHSUAN/algorithm/blob/master/1202.ipynb\" target=\"_parent\"><img src=\"https://colab.research.google.com/assets/colab-badge.svg\" alt=\"Open In Colab\"/></a>"
      ]
    },
    {
      "cell_type": "markdown",
      "metadata": {
        "id": "a-voAqaZa8WV"
      },
      "source": [
        "找零(貪婪)"
      ]
    },
    {
      "cell_type": "code",
      "metadata": {
        "colab": {
          "base_uri": "https://localhost:8080/"
        },
        "id": "5Reib2B4KogP",
        "outputId": "7c299c7b-a8e0-43cf-c568-5b51345e330e"
      },
      "source": [
        "t = [25,20,5,1]\n",
        "\n",
        "def change(t,n):\n",
        "  m = [0 for _ in range(len(t))]\n",
        "  for i , money in enumerate(t):\n",
        "    m[i] = n // money\n",
        "    n = n % money \n",
        "    #return m , n \n",
        "    print(m,n)\n",
        "c = int (input('要換多少零錢:'))\n",
        "print(change(t,c))"
      ],
      "execution_count": null,
      "outputs": [
        {
          "output_type": "stream",
          "text": [
            "要換多少零錢:41\n",
            "[1, 0, 0, 0] 16\n",
            "[1, 0, 0, 0] 16\n",
            "[1, 0, 3, 0] 1\n",
            "[1, 0, 3, 1] 0\n",
            "None\n"
          ],
          "name": "stdout"
        }
      ]
    },
    {
      "cell_type": "markdown",
      "metadata": {
        "id": "thnFozJqbFJO"
      },
      "source": [
        "找零(DP)"
      ]
    },
    {
      "cell_type": "code",
      "metadata": {
        "colab": {
          "base_uri": "https://localhost:8080/"
        },
        "id": "Xc8gezlTON5W",
        "outputId": "7aa596fe-b27e-4502-fa8e-baf5d12fc4bf"
      },
      "source": [
        "t = [25,20,5,1]\n",
        "\n",
        "#def change(t,n):\n",
        "  #m = [0 for _ in range(len(t))]\n",
        "  #for i , money in enumerate(t):\n",
        "   # m[i] = n // money\n",
        "   # n = n % money \n",
        "   # return m , n \n",
        "\n",
        "def change(t,n):\n",
        "  DP = [0] + [float('inf')] * n\n",
        "  for i in range(min(t), n+1):\n",
        "    DP[i] = min([DP[i-x] for x in t if i-x>=0])+1\n",
        "  return DP[-1] if DP[-1]!=float('inf') else -1\n",
        "c = int (input('要換多少零錢:'))\n",
        "print(change(t,c))"
      ],
      "execution_count": null,
      "outputs": [
        {
          "output_type": "stream",
          "text": [
            "要換多少零錢:41\n",
            "3\n"
          ],
          "name": "stdout"
        }
      ]
    },
    {
      "cell_type": "markdown",
      "metadata": {
        "id": "sLHX8aV4bJSN"
      },
      "source": [
        "背包(貪婪)"
      ]
    },
    {
      "cell_type": "code",
      "metadata": {
        "colab": {
          "base_uri": "https://localhost:8080/"
        },
        "id": "9pnaTpEIbLH4",
        "outputId": "8a8e1a0e-e0ac-406d-c503-ea82087254e0"
      },
      "source": [
        "\n",
        "t = [(17000,5),(35000,1),(60000,4),(9000,3),(20000,2)]\n",
        "v = 0\n",
        "b = 10\n",
        "def stollen(t,v,b):\n",
        "  t.sort(reverse=True)\n",
        "  m = [0 for i in range(len(t))]\n",
        "  print(t)\n",
        "  for i, (money,weight) in enumerate(t):\n",
        "    if b>=weight:\n",
        "      m[i]=1\n",
        "      v+=money\n",
        "      b-=weight \n",
        "    print(m,v)\n",
        "\n",
        "print(stollen(t,v,b))"
      ],
      "execution_count": null,
      "outputs": [
        {
          "output_type": "stream",
          "text": [
            "[(60000, 4), (35000, 1), (20000, 2), (17000, 5), (9000, 3)]\n",
            "[1, 0, 0, 0, 0] 60000\n",
            "[1, 1, 0, 0, 0] 95000\n",
            "[1, 1, 1, 0, 0] 115000\n",
            "[1, 1, 1, 0, 0] 115000\n",
            "[1, 1, 1, 0, 1] 124000\n",
            "None\n"
          ],
          "name": "stdout"
        }
      ]
    },
    {
      "cell_type": "markdown",
      "metadata": {
        "id": "JZsFpVCmHqnn"
      },
      "source": [
        "背包(DP)"
      ]
    },
    {
      "cell_type": "code",
      "metadata": {
        "id": "nGZb-ToXHpeu"
      },
      "source": [
        ""
      ],
      "execution_count": null,
      "outputs": []
    }
  ]
}