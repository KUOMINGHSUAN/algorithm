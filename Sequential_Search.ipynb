{
  "nbformat": 4,
  "nbformat_minor": 0,
  "metadata": {
    "colab": {
      "name": "Sequential Search.ipynb",
      "provenance": [],
      "collapsed_sections": [],
      "authorship_tag": "ABX9TyMGUZ/ie771bIBoGJv9iVWU",
      "include_colab_link": true
    },
    "kernelspec": {
      "name": "python3",
      "display_name": "Python 3"
    }
  },
  "cells": [
    {
      "cell_type": "markdown",
      "metadata": {
        "id": "view-in-github",
        "colab_type": "text"
      },
      "source": [
        "<a href=\"https://colab.research.google.com/github/KUOMINGHSUAN/algorithm/blob/master/Sequential_Search.ipynb\" target=\"_parent\"><img src=\"https://colab.research.google.com/assets/colab-badge.svg\" alt=\"Open In Colab\"/></a>"
      ]
    },
    {
      "cell_type": "code",
      "metadata": {
        "id": "QX00vewxyAA1",
        "outputId": "9fa07fc7-a9e1-44ad-8b5a-65e7e2708f04",
        "colab": {
          "base_uri": "https://localhost:8080/",
          "height": 51
        }
      },
      "source": [
        "data=[20,31,50,17,16,36,19,8]\n",
        "a = int(input(\"請輸入數字\"))\n",
        "def Sequential_Search(data,key):\n",
        "  for i in data:\n",
        "    if i ==key:\n",
        "      print(\"找到了\")    \n",
        "      break\n",
        "  for n in data:\n",
        "    if i !=key:\n",
        "      print(\"找不到\")\n",
        "      break\n",
        "\n",
        "Sequential_Search(data,a)"
      ],
      "execution_count": 31,
      "outputs": [
        {
          "output_type": "stream",
          "text": [
            "請輸入數字20\n",
            "找到了\n"
          ],
          "name": "stdout"
        }
      ]
    },
    {
      "cell_type": "code",
      "metadata": {
        "id": "XJIszwv60OaM"
      },
      "source": [
        ""
      ],
      "execution_count": 21,
      "outputs": []
    }
  ]
}